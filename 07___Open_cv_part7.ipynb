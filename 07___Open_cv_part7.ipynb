{
  "cells": [
    {
      "cell_type": "markdown",
      "source": [
        "# Image Transformation\n",
        "\n",
        "`OpenCV` provides two transformation functions, **`cv.warpAffine`** and **`cv.warpPerspective`**, with which you can perform all kinds of transformations. cv.warpAffine takes a 2x3 transformation matrix while cv.warpPerspective takes a 3x3 transformation matrix as input.\n",
        "\n",
        "## Translation\n",
        "Translation is the shifting of an object's location. If you know the shift in the (x,y) direction and let it be\n",
        ", you can create the transformation matrix\n",
        " as follows:\n",
        "\n",
        "$$\n",
        "M = \\begin{bmatrix}\n",
        "1 & 0 & tx \\\\\n",
        "0 & 1 & ty \\\\\n",
        "\\end{bmatrix}\n",
        "$$\n",
        "\n",
        "You can take make it into a Numpy array of type np.float32 and pass it into the cv.warpAffine() function. See the below example for a shift of (100,50):"
      ],
      "metadata": {
        "id": "VD1tsncytoFT"
      }
    },
    {
      "cell_type": "code",
      "source": [
        "import numpy as np\n",
        "import matplotlib.pyplot as plt\n",
        "import cv2\n",
        "from google.colab.patches import cv2_imshow"
      ],
      "metadata": {
        "id": "t0Y0BV08tqny"
      },
      "execution_count": 25,
      "outputs": []
    },
    {
      "cell_type": "code",
      "source": [
        "img = cv2.imread('/content/000_32Y432C-e1670079887895.jpg', cv2.IMREAD_GRAYSCALE)\n",
        "cv2_imshow(img)"
      ],
      "metadata": {
        "id": "dHJFimTExxck"
      },
      "execution_count": null,
      "outputs": []
    },
    {
      "cell_type": "code",
      "source": [
        "row, col = img.shape\n",
        "M = np.float32([[1, 0, 100], [0, 1, 50]])\n",
        "dst = cv2.warpAffine(img,M,(col,row))"
      ],
      "metadata": {
        "id": "_qyp1Drjx1av"
      },
      "execution_count": 10,
      "outputs": []
    },
    {
      "cell_type": "code",
      "source": [
        "cv2_imshow(dst)"
      ],
      "metadata": {
        "id": "12fdCQWYx5fW"
      },
      "execution_count": null,
      "outputs": []
    },
    {
      "cell_type": "markdown",
      "source": [
        "## warning\n",
        "\n",
        "The third argument of the cv.warpAffine() function is the size of the output image, which should be in the form of **(width, height)**. Remember width = number of columns, and height = number of rows."
      ],
      "metadata": {
        "id": "7_3s73I9yreh"
      }
    },
    {
      "cell_type": "markdown",
      "source": [
        "## Rotation\n",
        "\n",
        "Rotation of an image for an angle θ\n",
        " is achieved by the transformation matrix of the form\n",
        "\n",
        "$$\n",
        "M = \\begin{bmatrix}\n",
        "cosθ  & -sinθ \\\\\n",
        "sinθ & cosθ  \\\\\n",
        "\\end{bmatrix}\n",
        "$$\n",
        "\n",
        "\n",
        "But OpenCV provides scaled rotation with adjustable center of rotation so that you can rotate at any location you prefer. The modified transformation matrix is given by\n",
        "\n",
        "$$\n",
        "\\begin{bmatrix}\n",
        "\\alpha  & β & (1 - 0) .center.x-β.center.x \\\\\n",
        "-\\beta & α & β.center.x + (1 - 0).center.y  \\\\\n",
        "\\end{bmatrix}\n",
        "$$\n",
        "\n",
        "\n",
        "where:\n",
        "\n",
        "$$\n",
        "α=scale.cosθ\\\\\n",
        "β=scale.sinx\n",
        "$$\n",
        "\n",
        "To find this transformation matrix, OpenCV provides a function, cv.getRotationMatrix2D. Check out the below example which rotates the image by 90 degree with respect to center without any scaling."
      ],
      "metadata": {
        "id": "U1bcaFaFzjjL"
      }
    },
    {
      "cell_type": "code",
      "source": [
        "img = cv2.imread('/content/000_32Y432C-e1670079887895.jpg')\n",
        "cv2_imshow(img)"
      ],
      "metadata": {
        "id": "o1tZ3kYmyn5Y"
      },
      "execution_count": null,
      "outputs": []
    },
    {
      "cell_type": "code",
      "source": [
        "center = (img.shape[1]//2, img.shape[0]//2)\n",
        "center"
      ],
      "metadata": {
        "colab": {
          "base_uri": "https://localhost:8080/"
        },
        "id": "Bim8z4dVzyDM",
        "outputId": "447b3dd6-1395-484f-9a24-2375844ebab9"
      },
      "execution_count": 15,
      "outputs": [
        {
          "output_type": "execute_result",
          "data": {
            "text/plain": [
              "(488, 305)"
            ]
          },
          "metadata": {},
          "execution_count": 15
        }
      ]
    },
    {
      "cell_type": "code",
      "source": [
        "M = cv2.getRotationMatrix2D(center, 45, 1)\n",
        "M"
      ],
      "metadata": {
        "colab": {
          "base_uri": "https://localhost:8080/"
        },
        "id": "5I6_hyflznZM",
        "outputId": "c717e357-617e-459f-b93f-56478cb97f15"
      },
      "execution_count": 16,
      "outputs": [
        {
          "output_type": "execute_result",
          "data": {
            "text/plain": [
              "array([[  0.70710678,   0.70710678, -72.73567748],\n",
              "       [ -0.70710678,   0.70710678, 434.40054096]])"
            ]
          },
          "metadata": {},
          "execution_count": 16
        }
      ]
    },
    {
      "cell_type": "code",
      "source": [
        "rotate_45 = cv2.warpAffine(img, M, (img.shape[1], img.shape[0]))\n",
        "cv2_imshow(rotate_45)"
      ],
      "metadata": {
        "id": "wVGjf1Rp0G6w"
      },
      "execution_count": null,
      "outputs": []
    },
    {
      "cell_type": "markdown",
      "source": [
        "## Resizing The Image\n",
        "\n",
        "Image resizing refers to the scaling of images. Scaling comes in handy in many image processing as well as machine learning applications. It helps in reducing the number of pixels from an image and that has several advantages e.g. It can reduce the time of training of a neural network as the more the number of pixels in an image more is the number of input nodes that in turn increases the complexity of the model.\n",
        "It also helps in zooming in on images. Many times we need to resize the image i.e. either shrink it or scale it up to meet the size requirements. OpenCV provides us several interpolation methods for resizing an image.\n",
        "\n",
        "Choice of Interpolation Method for Resizing:\n",
        "\n",
        "\n",
        "1.   **`cv2.INTER_AREA`**: This is used when we need to shrink an image.\n",
        "2.   **`cv2.INTER_CUBIC`**: This is slow but more efficient\n",
        "3.   **`cv2.INTER_LINEAR`**: This is primarily used when zooming is required. This is the default interpolation technique in OpenCV.\n",
        "\n"
      ],
      "metadata": {
        "id": "pxDcN4QY4xpM"
      }
    },
    {
      "cell_type": "code",
      "source": [
        "img = cv2.imread('/content/000_32Y432C-e1670079887895.jpg')\n",
        "cv2_imshow(img)"
      ],
      "metadata": {
        "id": "47O2jqVf0Zzh"
      },
      "execution_count": null,
      "outputs": []
    },
    {
      "cell_type": "code",
      "source": [
        "img.shape"
      ],
      "metadata": {
        "colab": {
          "base_uri": "https://localhost:8080/"
        },
        "id": "A1paxQK65ZlV",
        "outputId": "7bc9d3d8-a672-4c1b-d35b-7fee91c5c204"
      },
      "execution_count": 19,
      "outputs": [
        {
          "output_type": "execute_result",
          "data": {
            "text/plain": [
              "(611, 977, 3)"
            ]
          },
          "metadata": {},
          "execution_count": 19
        }
      ]
    },
    {
      "cell_type": "code",
      "source": [
        "half = cv2.resize(img, (0, 0), fx = 0.1, fy = 0.1)\n",
        "bigger = cv2.resize(img, (1050, 1610))"
      ],
      "metadata": {
        "id": "yhqcaoPy5acm"
      },
      "execution_count": 20,
      "outputs": []
    },
    {
      "cell_type": "code",
      "source": [
        "cv2_imshow(half)"
      ],
      "metadata": {
        "id": "wJiWSnZm5gdw"
      },
      "execution_count": null,
      "outputs": []
    },
    {
      "cell_type": "code",
      "source": [
        "cv2_imshow(bigger)"
      ],
      "metadata": {
        "id": "_f7VOiV75i3x"
      },
      "execution_count": null,
      "outputs": []
    },
    {
      "cell_type": "code",
      "source": [
        "stretch_near = cv2.resize(img, (780, 540),\n",
        "               interpolation = cv2.INTER_LINEAR)\n",
        "cv2_imshow(stretch_near)"
      ],
      "metadata": {
        "id": "MuaNZiQz5kkC"
      },
      "execution_count": null,
      "outputs": []
    },
    {
      "cell_type": "code",
      "source": [
        "Titles =[\"Original\", \"Half\", \"Bigger\", \"Interpolation Nearest\"]\n",
        "images =[img, half, bigger, stretch_near]\n",
        "count = 4\n",
        "\n",
        "for i in range(count):\n",
        "    plt.subplot(2, 2, i + 1)\n",
        "    plt.title(Titles[i])\n",
        "    plt.imshow(images[i])\n",
        "\n",
        "plt.show()"
      ],
      "metadata": {
        "id": "WUxptf2_5uHB"
      },
      "execution_count": null,
      "outputs": []
    },
    {
      "cell_type": "markdown",
      "source": [
        "## What is Flipping an Image?\n",
        "Flipping an image is the process of reversing it either horizontally or vertically. This can be useful for a number of different image processing tasks, such as creating mirrored images, flipping an image to correct its orientation, or generating additional training data for machine learning algorithms.\n",
        "\n",
        "Flipping an image in OpenCV is a simple process that can be done using the flip() function. The flip() function takes two arguments: the image you want to flip, and the axis along which you want to flip the image. You can flip an image horizontally by using the value 0, and you can flip an image vertically by using the value 1.\n",
        "\n",
        "Now that we have a basic understanding of flipping an image, let’s see how we can do it in OpenCV.\n",
        "\n",
        "The first step is to load an image into OpenCV. You can do this using the imread() function, like this:"
      ],
      "metadata": {
        "id": "k3yjH0xl6WgN"
      }
    },
    {
      "cell_type": "code",
      "source": [
        "img = cv2.imread('/content/000_32Y432C-e1670079887895.jpg')"
      ],
      "metadata": {
        "id": "iISL-8Km6YHC"
      },
      "execution_count": 27,
      "outputs": []
    },
    {
      "cell_type": "code",
      "source": [
        "# Flip the image horizontally\n",
        "flipped = cv2.flip(img, 0)\n",
        "cv2_imshow(flipped)"
      ],
      "metadata": {
        "id": "eLcCZjuw6i3F"
      },
      "execution_count": null,
      "outputs": []
    },
    {
      "cell_type": "code",
      "source": [
        "# Flip the image vertically\n",
        "flipped = cv2.flip(img, 1)\n",
        "cv2_imshow(flipped)"
      ],
      "metadata": {
        "id": "4uAaOoSb6lmc"
      },
      "execution_count": null,
      "outputs": []
    },
    {
      "cell_type": "code",
      "source": [
        "flipped = cv2.flip(img, -1)\n",
        "cv2_imshow(flipped)"
      ],
      "metadata": {
        "id": "U1RngVL46tEZ"
      },
      "execution_count": null,
      "outputs": []
    },
    {
      "cell_type": "markdown",
      "source": [
        "## Cropping\n",
        "\n",
        "Cropping an Image is one of the most basic image operations that we perform in our projects. In this article, we will discuss how to crop images using OpenCV in Python."
      ],
      "metadata": {
        "id": "5_QBUtAY7RUc"
      }
    },
    {
      "cell_type": "code",
      "source": [
        "image = cv2.imread('/content/test.jpeg')\n",
        "cv2_imshow(image)\n",
        "\n",
        "\n",
        "# invs code\n",
        "# import cv2\n",
        "\n",
        "# # Read Input Image\n",
        "# img = cv2.imread(\"test.jpeg\")\n",
        "\n",
        "# # Check the type of read image\n",
        "# print(type(img))\n",
        "\n",
        "# # Display the image\n",
        "# cv2.imshow('image', img)\n",
        "# cv2.waitKey(0)\n",
        "# cv2.destroyAllWindows()"
      ],
      "metadata": {
        "id": "VjYj4m6t6wTw"
      },
      "execution_count": null,
      "outputs": []
    },
    {
      "cell_type": "code",
      "source": [
        "image.shape"
      ],
      "metadata": {
        "colab": {
          "base_uri": "https://localhost:8080/"
        },
        "id": "anIxeBMN7boX",
        "outputId": "46a01786-aea2-409a-f0c9-6a8b6e5fc368"
      },
      "execution_count": 32,
      "outputs": [
        {
          "output_type": "execute_result",
          "data": {
            "text/plain": [
              "(250, 360, 3)"
            ]
          },
          "metadata": {},
          "execution_count": 32
        }
      ]
    },
    {
      "cell_type": "code",
      "source": [
        "crop = image[50:180, 100:300]\n",
        "print('The original')\n",
        "cv2_imshow(image)\n",
        "\n",
        "print('\\ncropped image')\n",
        "cv2_imshow(crop)"
      ],
      "metadata": {
        "id": "DPS5VN7V7pQJ"
      },
      "execution_count": null,
      "outputs": []
    },
    {
      "cell_type": "code",
      "source": [],
      "metadata": {
        "id": "jsvlIDK07yK-"
      },
      "execution_count": null,
      "outputs": []
    }
  ],
  "metadata": {
    "colab": {
      "provenance": []
    },
    "kernelspec": {
      "display_name": "Python 3",
      "name": "python3"
    },
    "language_info": {
      "name": "python"
    }
  },
  "nbformat": 4,
  "nbformat_minor": 0
}