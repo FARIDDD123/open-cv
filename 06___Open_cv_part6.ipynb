{
  "cells": [
    {
      "cell_type": "markdown",
      "source": [
        "# Face Detection\n",
        "\n",
        "## What is ...\n",
        "\n",
        "\n",
        "Face detection, also called facial detection, is an artificial intelligence (AI)-based computer technology used to find and identify human faces in digital images and video. Face detection technology is often used for surveillance and tracking of people in real time. It is used in various fields including security, biometrics, law enforcement, entertainment and social media.\n",
        "\n",
        "Face detection uses machine learning (ML) and artificial neural network (ANN) technology, and plays an important role in face tracking, face analysis and facial recognition. In face analysis, face detection uses facial expressions to identify which parts of an image or video should be focused on to determine age, gender and emotions. In a facial recognition system, face detection data is required to generate a faceprint and match it with other stored faceprints."
      ],
      "metadata": {
        "id": "pW7vfVLxh5X_"
      }
    },
    {
      "cell_type": "markdown",
      "source": [
        "## Real Time Face Detection With DNN\n"
      ],
      "metadata": {
        "id": "wtVCdEKbde3x"
      }
    },
    {
      "cell_type": "code",
      "source": [
        "from google.colab.patches import cv2_imshow\n",
        "import numpy as np\n",
        "import cv2"
      ],
      "metadata": {
        "id": "9_Ys4KPth7W8"
      },
      "execution_count": 1,
      "outputs": []
    },
    {
      "cell_type": "code",
      "source": [
        "import cv2\n",
        "import numpy as np\n",
        "\n",
        "cap = cv2.VideoCapture(0)\n",
        "\n",
        "face_detection_model = cv2.dnn.readNetFromCaffe('deploy.prototxt.txt',\n",
        "                                                'res10_300x300_ssd_iter_140000_fp16.caffemodel')\n",
        "\n",
        "\n",
        "def face_detector(model, img):\n",
        "    # img = cv2.imread(img)\n",
        "    blob = cv2.dnn.blobFromImage(\n",
        "        img, 1, (300, 300), (104, 177, 123), swapRB=True)\n",
        "    model.setInput(blob)\n",
        "    detection = model.forward()\n",
        "    h, w = img.shape[:2]\n",
        "\n",
        "    for i in range(0, 200):\n",
        "        confidence = detection[0, 0, i, 2]\n",
        "\n",
        "        if confidence > 0.5:\n",
        "            box = detection[0, 0, i, 3:7]*np.array([w, h, w, h])\n",
        "            box = box.astype('int')\n",
        "            pt1 = (box[0], box[1])\n",
        "            pt2 = (box[2], box[3])\n",
        "\n",
        "            cv2.rectangle(img, pt1, pt2, (0, 255, 0), 1)\n",
        "\n",
        "            text = f'Score: {confidence*100:.0f} %'\n",
        "\n",
        "            cv2.putText(img, text, pt1,\n",
        "                        cv2.FONT_HERSHEY_COMPLEX_SMALL, 1, (255, 255, 255), 2)\n",
        "\n",
        "        return img\n",
        "\n",
        "\n",
        "while True:\n",
        "    ret, frame = cap.read()\n",
        "\n",
        "    if not ret:\n",
        "        break\n",
        "\n",
        "    img_detector = face_detector(face_detection_model, frame)\n",
        "\n",
        "    cv2_imshow('Real Time Face Detection', img_detector)\n",
        "\n",
        "    if cv2.waitKey(1) == ord('q'):\n",
        "        break\n",
        "\n",
        "\n",
        "cap.release()\n",
        "cv2.destroyAllWindows()"
      ],
      "metadata": {
        "id": "3CdCtVZCvZaG"
      },
      "execution_count": null,
      "outputs": []
    }
  ],
  "metadata": {
    "colab": {
      "provenance": []
    },
    "kernelspec": {
      "display_name": "Python 3",
      "name": "python3"
    },
    "language_info": {
      "name": "python"
    }
  },
  "nbformat": 4,
  "nbformat_minor": 0
}