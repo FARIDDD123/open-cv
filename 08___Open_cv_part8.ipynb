{
  "cells": [
    {
      "cell_type": "markdown",
      "source": [
        "# Arithmetic Operations\n",
        "\n",
        "We can perform different Arithmetic operations on images e.g. **Addition**, **Subtraction**, etc. This is possible because images are actually stored as arrays (3 Dimensional for RGB images and 1 dimensional for the grayscale images)\n",
        "\n",
        "## Image Addition\n",
        "You can add two images with the OpenCV function, **`cv.add()`**, or simply by the numpy operation **`res = img1 + img2`**. Both images should be of same depth and type, or the second image can just be a scalar value.\n",
        "\n",
        "# Note\n",
        "> There is a difference between OpenCV addition and Numpy addition. OpenCV addition is a saturated operation while Numpy addition is a modulo operation.\n",
        "\n",
        "\n",
        "For example, consider the below sample:"
      ],
      "metadata": {
        "id": "VD1tsncytoFT"
      }
    },
    {
      "cell_type": "code",
      "source": [
        "import numpy as np\n",
        "import matplotlib.pyplot as plt\n",
        "import cv2\n",
        "from google.colab.patches import cv2_imshow"
      ],
      "metadata": {
        "id": "t0Y0BV08tqny"
      },
      "execution_count": 1,
      "outputs": []
    },
    {
      "cell_type": "code",
      "source": [
        "x = np.uint8([250])\n",
        "y = np.uint8([10])\n",
        "\n",
        "print(cv2.add(x, y)) # 250+10 = 260 => 255\n",
        "print(x + y) # 250+10 = 260 % 256 = 4"
      ],
      "metadata": {
        "id": "jsvlIDK07yK-",
        "colab": {
          "base_uri": "https://localhost:8080/"
        },
        "outputId": "673acc8e-3f26-4891-a9d9-bee9e419ce23"
      },
      "execution_count": 2,
      "outputs": [
        {
          "output_type": "stream",
          "name": "stdout",
          "text": [
            "[[255]]\n",
            "[4]\n"
          ]
        }
      ]
    },
    {
      "cell_type": "code",
      "source": [
        "img = cv2.imread('/content/000_32Y432C-e1670079887895.jpg')\n",
        "cv2_imshow(img)"
      ],
      "metadata": {
        "id": "FZv1-y9JrFdD"
      },
      "execution_count": null,
      "outputs": []
    },
    {
      "cell_type": "code",
      "source": [
        "value = np.ones_like(img, dtype=np.uint8)*50"
      ],
      "metadata": {
        "id": "x64P9ZJcr6IP"
      },
      "execution_count": 4,
      "outputs": []
    },
    {
      "cell_type": "code",
      "source": [
        "value"
      ],
      "metadata": {
        "id": "x1NFUVj_sN_I"
      },
      "execution_count": null,
      "outputs": []
    },
    {
      "cell_type": "code",
      "source": [
        "add_image = cv2.add(img, value)\n",
        "cv2_imshow(add_image)"
      ],
      "metadata": {
        "id": "Sh7zpOvtsOid"
      },
      "execution_count": null,
      "outputs": []
    },
    {
      "cell_type": "markdown",
      "source": [
        "## Image Blending\n",
        "\n",
        "This is also image addition, but different weights are given to images in order to give a feeling of blending or transparency. Images are added as per the equation below:\n",
        "\n",
        "\\begin{equation}\n",
        "g(x) = (1-α)f_0(x) + αf_1(x)\n",
        "\\end{equation}\n",
        "\n",
        "By varying α from 0→1, you can perform a cool transition between one image to another.\n",
        "\n",
        "Here I took two images to blend together. The first image is given a weight of 0.7 and the second image is given 0.3. **`cv.addWeighted()`** applies the following equation to the image:\n",
        "\\begin{equation}\n",
        "dst=α⋅img1+β⋅img2+γ\n",
        "\\end{equation}\n",
        "\n",
        "Here γ is taken as zero."
      ],
      "metadata": {
        "id": "SIeGrClHs5Du"
      }
    },
    {
      "cell_type": "code",
      "source": [
        "img1 = cv2.imread('/content/images (1).png')\n",
        "img2 = cv2.imread('/content/images.png')"
      ],
      "metadata": {
        "id": "gF7mS0kHsXlX"
      },
      "execution_count": 12,
      "outputs": []
    },
    {
      "cell_type": "code",
      "source": [
        "assert img1 is not None, \"file could not be read, check with os.path.exists()\"\n",
        "assert img2 is not None, \"file could not be read, check with os.path.exists()\"\n",
        "img2 = cv2.resize(img2, (img1.shape[1], img1.shape[0]))\n",
        "dst = cv2.addWeighted(img1,0.7,img2,0.3,0)"
      ],
      "metadata": {
        "id": "PvRuIphRumnW"
      },
      "execution_count": 14,
      "outputs": []
    },
    {
      "cell_type": "code",
      "source": [
        "cv2_imshow(dst)"
      ],
      "metadata": {
        "id": "zmPB98ZmvirY"
      },
      "execution_count": null,
      "outputs": []
    },
    {
      "cell_type": "code",
      "source": [
        "img1 = cv2.imread('/content/blend_1.jpg')\n",
        "img2 = cv2.imread('/content/blend_2.jpg')"
      ],
      "metadata": {
        "id": "j_W-KFksyQ4h"
      },
      "execution_count": 25,
      "outputs": []
    },
    {
      "cell_type": "code",
      "source": [
        "cv2_imshow(img1)"
      ],
      "metadata": {
        "id": "tjNTKzzjyQpA"
      },
      "execution_count": null,
      "outputs": []
    },
    {
      "cell_type": "code",
      "source": [
        "dst1 = cv2.addWeighted(img1, 0.7, img2, 0.3, -12)\n",
        "cv2_imshow(dst1)"
      ],
      "metadata": {
        "id": "ZKlw6PH7yfjB"
      },
      "execution_count": null,
      "outputs": []
    },
    {
      "cell_type": "markdown",
      "source": [
        "## Bitwise Operations\n",
        "This includes the bitwise AND, OR, NOT, and XOR operations. They will be highly useful while extracting any part of the image (as we will see in coming chapters), defining and working with non-rectangular ROI's, and etc. Below we will see an example of how to change a particular region of an image.\n",
        "\n",
        "I want to put the OpenCV logo above an image. If I add two images, it will change the color. If I blend them, I get a transparent effect. But I want it to be opaque. If it was a rectangular region, I could use ROI as we did in the last chapter. But the OpenCV logo is a not a rectangular shape. So you can do it with bitwise operations as shown below:"
      ],
      "metadata": {
        "id": "WKLcfllAvr0C"
      }
    },
    {
      "cell_type": "code",
      "source": [
        "img1 = cv2.imread('/content/000_32Y432C-e1670079887895.jpg')\n",
        "img2 = cv2.imread('/content/images.png')\n",
        "assert img1 is not None, \"file could not be read, check with os.path.exists()\"\n",
        "assert img2 is not None, \"file could not be read, check with os.path.exists()\"\n",
        "# I want to put logo on top-left corner, So I create a ROI\n",
        "rows,cols,channels = img2.shape\n",
        "roi = img1[0:rows, 0:cols]\n",
        "# Now create a mask of logo and create its inverse mask also\n",
        "img2gray = cv2.cvtColor(img2,cv2.COLOR_BGR2GRAY)\n",
        "ret, mask = cv2.threshold(img2gray, 10, 255, cv2.THRESH_BINARY)\n",
        "mask_inv = cv2.bitwise_not(mask)\n",
        "# Now black-out the area of logo in ROI\n",
        "img1_bg = cv2.bitwise_and(roi,roi,mask = mask_inv)\n",
        "# Take only region of logo from logo image.\n",
        "img2_fg = cv2.bitwise_and(img2,img2,mask = mask)\n",
        "# Put logo in ROI and modify the main image\n",
        "dst = cv2.add(img1_bg,img2_fg)\n",
        "img1[0:rows, 0:cols ] = dst\n",
        "cv2_imshow(img1)\n",
        "cv2.waitKey(0)\n",
        "cv2.destroyAllWindows()"
      ],
      "metadata": {
        "id": "HlJxOdu0vlGs"
      },
      "execution_count": null,
      "outputs": []
    },
    {
      "cell_type": "markdown",
      "source": [
        "You can subtract two images by OpenCV function, **`cv.subtract()`**. res = img1 - img2. Both images should be of same depth and type. Note that when used with RGBA images, the alpha channel is also subtracted.\n",
        "\n",
        "For example, consider below sample:"
      ],
      "metadata": {
        "id": "RzV-4BbHw084"
      }
    },
    {
      "cell_type": "code",
      "source": [
        "img"
      ],
      "metadata": {
        "id": "cxdLf0Unv9Vb"
      },
      "execution_count": null,
      "outputs": []
    },
    {
      "cell_type": "code",
      "source": [
        "image = cv2.imread('/content/images.jpg')\n",
        "cv2_imshow(image)"
      ],
      "metadata": {
        "id": "rbYoWULpw6B0"
      },
      "execution_count": null,
      "outputs": []
    },
    {
      "cell_type": "code",
      "source": [
        "value1 = np.ones_like(image, dtype=np.uint8)*75\n",
        "sub_image = cv2.subtract(image, value1)\n",
        "cv2_imshow(sub_image)"
      ],
      "metadata": {
        "id": "8NNzIk9AxFW6"
      },
      "execution_count": null,
      "outputs": []
    },
    {
      "cell_type": "code",
      "source": [],
      "metadata": {
        "id": "HteW24tWxbM3"
      },
      "execution_count": null,
      "outputs": []
    }
  ],
  "metadata": {
    "colab": {
      "provenance": []
    },
    "kernelspec": {
      "display_name": "Python 3",
      "name": "python3"
    },
    "language_info": {
      "name": "python"
    }
  },
  "nbformat": 4,
  "nbformat_minor": 0
}