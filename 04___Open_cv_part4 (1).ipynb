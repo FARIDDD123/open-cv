{
  "cells": [
    {
      "cell_type": "markdown",
      "source": [
        "# Face Detection\n",
        "\n",
        "## What is ...\n",
        "\n",
        "\n",
        "Face detection, also called facial detection, is an artificial intelligence (AI)-based computer technology used to find and identify human faces in digital images and video. Face detection technology is often used for surveillance and tracking of people in real time. It is used in various fields including security, biometrics, law enforcement, entertainment and social media.\n",
        "\n",
        "Face detection uses machine learning (ML) and artificial neural network (ANN) technology, and plays an important role in face tracking, face analysis and facial recognition. In face analysis, face detection uses facial expressions to identify which parts of an image or video should be focused on to determine age, gender and emotions. In a facial recognition system, face detection data is required to generate a faceprint and match it with other stored faceprints."
      ],
      "metadata": {
        "id": "pW7vfVLxh5X_"
      }
    },
    {
      "cell_type": "code",
      "source": [
        "from google.colab.patches import cv2_imshow\n",
        "import numpy as np\n",
        "import cv2"
      ],
      "metadata": {
        "id": "9_Ys4KPth7W8"
      },
      "execution_count": 5,
      "outputs": []
    },
    {
      "cell_type": "code",
      "source": [
        "img= cv2.imread('/content/000_32Y432C-e1670079887895.jpg')\n",
        "img"
      ],
      "metadata": {
        "id": "PJ7vfGyxkWKE"
      },
      "execution_count": null,
      "outputs": []
    },
    {
      "cell_type": "code",
      "source": [
        "face_cascade = cv2.CascadeClassifier('/content/haarcascade_frontalface_default.xml')"
      ],
      "metadata": {
        "id": "U6ZgbNfPkhed"
      },
      "execution_count": 7,
      "outputs": []
    },
    {
      "cell_type": "code",
      "source": [
        "gray = cv2.cvtColor(img, cv2.COLOR_BGR2GRAY)\n",
        "\n",
        "box, detections = face_cascade.detectMultiScale2(gray, 1.3, 5)"
      ],
      "metadata": {
        "id": "kFmh9TQxkzpq"
      },
      "execution_count": 19,
      "outputs": []
    },
    {
      "cell_type": "code",
      "source": [
        "box"
      ],
      "metadata": {
        "colab": {
          "base_uri": "https://localhost:8080/"
        },
        "id": "iNmRQNTYk9SI",
        "outputId": "48521395-523a-44a0-d6f3-f5d82e0eb6ff"
      },
      "execution_count": 20,
      "outputs": [
        {
          "output_type": "execute_result",
          "data": {
            "text/plain": [
              "array([[612,  97,  99,  99],\n",
              "       [789, 107,  77,  77],\n",
              "       [ 91, 148,  85,  85]], dtype=int32)"
            ]
          },
          "metadata": {},
          "execution_count": 20
        }
      ]
    },
    {
      "cell_type": "code",
      "source": [
        "detections"
      ],
      "metadata": {
        "colab": {
          "base_uri": "https://localhost:8080/"
        },
        "id": "g7pJ_3MJlTGJ",
        "outputId": "363c042f-65a7-4135-e38f-f42c1c06a212"
      },
      "execution_count": 21,
      "outputs": [
        {
          "output_type": "execute_result",
          "data": {
            "text/plain": [
              "array([17, 20, 22], dtype=int32)"
            ]
          },
          "metadata": {},
          "execution_count": 21
        }
      ]
    },
    {
      "cell_type": "markdown",
      "source": [
        "## Detect Face with harcascade\n",
        "\n",
        "📚[resources](https://github.com/opencv/opencv/tree/master/data/haarcascades)"
      ],
      "metadata": {
        "id": "_zNU7M9Omdbk"
      }
    },
    {
      "cell_type": "code",
      "source": [],
      "metadata": {
        "id": "fwZojK40tljU"
      },
      "execution_count": null,
      "outputs": []
    },
    {
      "cell_type": "code",
      "source": [
        "image = img.copy()\n",
        "\n",
        "for x, y, w, h in box:\n",
        "  cv2.rectangle(image, (x, y), (x+w, y+h), (0, 255, 0), 1)\n",
        "\n",
        "cv2_imshow(image)"
      ],
      "metadata": {
        "id": "DfNJ_yUZlVGF"
      },
      "execution_count": null,
      "outputs": []
    },
    {
      "cell_type": "markdown",
      "source": [
        "# Real Time face and eye Detection"
      ],
      "metadata": {
        "id": "V7Sq3BIMrw0e"
      }
    },
    {
      "cell_type": "code",
      "source": [
        "# OpenCV program to detect face in real time\n",
        "# import libraries of python OpenCV\n",
        "# where its functionality resides\n",
        "import cv2\n",
        "\n",
        "# load the required trained XML classifiers\n",
        "# https://github.com/Itseez/opencv/blob/master/\n",
        "# data/haarcascades/haarcascade_frontalface_default.xml\n",
        "# Trained XML classifiers describes some features of some\n",
        "# object we want to detect a cascade function is trained\n",
        "# from a lot of positive(faces) and negative(non-faces)\n",
        "# images.\n",
        "face_cascade = cv2.CascadeClassifier('haarcascade_frontalface_default.xml')\n",
        "\n",
        "# https://github.com/Itseez/opencv/blob/master\n",
        "# /data/haarcascades/haarcascade_eye.xml\n",
        "# Trained XML file for detecting eyes\n",
        "eye_cascade = cv2.CascadeClassifier('haarcascade_eye.xml')\n",
        "\n",
        "# capture frames from a camera\n",
        "cap = cv2.VideoCapture(0)\n",
        "\n",
        "# loop runs if capturing has been initialized.\n",
        "while 1:\n",
        "\n",
        "    # reads frames from a camera\n",
        "    ret, img = cap.read()\n",
        "\n",
        "    # convert to gray scale of each frames\n",
        "    gray = cv2.cvtColor(img, cv2.COLOR_BGR2GRAY)\n",
        "\n",
        "    # Detects faces of different sizes in the input image\n",
        "    faces = face_cascade.detectMultiScale(gray, 1.3, 5)\n",
        "\n",
        "    for (x, y, w, h) in faces:\n",
        "        # To draw a rectangle in a face\n",
        "        cv2.rectangle(img, (x, y), (x+w, y+h), (255, 255, 0), 2)\n",
        "        roi_gray = gray[y:y+h, x:x+w]\n",
        "        roi_color = img[y:y+h, x:x+w]\n",
        "\n",
        "        # Detects eyes of different sizes in the input image\n",
        "        eyes = eye_cascade.detectMultiScale(roi_gray)\n",
        "\n",
        "        # To draw a rectangle in eyes\n",
        "        for (ex, ey, ew, eh) in eyes:\n",
        "            cv2.rectangle(roi_color, (ex, ey),\n",
        "                          (ex+ew, ey+eh), (0, 127, 255), 2)\n",
        "\n",
        "    # Display an image in a window\n",
        "    cv2.imshow('img', img)\n",
        "\n",
        "    # Wait for Esc key to stop\n",
        "    if cv2.waitKey(1) & 0xff == ord('q'):\n",
        "        break\n",
        "\n",
        "# Close the window\n",
        "cap.release()\n",
        "\n",
        "# De-allocate any associated memory usage\n",
        "cv2.destroyAllWindows()"
      ],
      "metadata": {
        "id": "LH2smo7tm2x7"
      },
      "execution_count": null,
      "outputs": []
    }
  ],
  "metadata": {
    "colab": {
      "provenance": []
    },
    "kernelspec": {
      "display_name": "Python 3",
      "name": "python3"
    },
    "language_info": {
      "name": "python"
    }
  },
  "nbformat": 4,
  "nbformat_minor": 0
}