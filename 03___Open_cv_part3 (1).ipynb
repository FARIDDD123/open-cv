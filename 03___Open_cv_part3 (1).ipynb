{
  "cells": [
    {
      "cell_type": "markdown",
      "metadata": {
        "id": "6OE8ulIALGpL"
      },
      "source": [
        "# Capture Video from Camera\n",
        "\n",
        "Often, we have to capture live stream with a camera. OpenCV provides a very simple interface to do this. Let's capture a video from the camera (I am using the built-in webcam on my laptop), convert it into grayscale video and display it. Just a simple task to get started.\n",
        "\n",
        "To capture a video, you need to create a **VideoCapture** object. Its argument can be either the device index or the name of a video file. A device index is just the number to specify which camera. Normally one camera will be connected (as in my case). So I simply pass 0 (or -1). You can select the second camera by passing 1 and so on. After that, you can capture frame-by-frame. But at the end, don't forget to release the capture.\n",
        "\n",
        "## Goal\n",
        "* Learn to read video, display video, and save video.\n",
        "* Learn to capture video from a camera and display it.\n",
        "* You will learn these functions : **`cv.VideoCapture()`**, **`cv.VideoWriter()`**"
      ]
    },
    {
      "cell_type": "code",
      "execution_count": null,
      "metadata": {
        "id": "xFU6eeAYLVgB"
      },
      "outputs": [],
      "source": [
        "from google.colab.patches import cv2_imshow\n",
        "import numpy as np\n",
        "import pandas as pd\n",
        "import cv2"
      ]
    },
    {
      "cell_type": "code",
      "execution_count": null,
      "metadata": {
        "colab": {
          "base_uri": "https://localhost:8080/"
        },
        "id": "xFPtzAe7Lf4c",
        "outputId": "57d44e65-f9d6-47f6-a292-938ff95a7689"
      },
      "outputs": [
        {
          "name": "stdout",
          "output_type": "stream",
          "text": [
            "Can not open the camera\n",
            "Can't receive frame (stream end?). Exiting ...\n"
          ]
        }
      ],
      "source": [
        "cap = cv2.VideoCapture(0)\n",
        "\n",
        "if not cap.isOpened():\n",
        "  print('Can not open the camera')\n",
        "\n",
        "\n",
        "while True:\n",
        "  ret, frame = cap.read()\n",
        "  if not ret:\n",
        "    print(\"Can't receive frame (stream end?). Exiting ...\")\n",
        "    break\n",
        "\n",
        "  rgb_frame = cv2.cvtColor(frame, cv2.COLOR_BAYER_BG2RGB)\n",
        "  cv2_imshow(rgb_frame)\n",
        "\n",
        "  if cv2.waitKey(1) == ord('q'):\n",
        "    break\n",
        "\n",
        "\n",
        "\n",
        "cap.release()\n",
        "cv2.destroyAllWindows()"
      ]
    },
    {
      "cell_type": "markdown",
      "metadata": {
        "id": "xS868KccIdoQ"
      },
      "source": [
        "**cap.read()** returns a bool **(True/False)**. If the frame is read correctly, it will be True. So you can check for the end of the video by checking this returned value.\n",
        "\n",
        "Sometimes, cap may not have initialized the capture. In that case, this code shows an error. You can check whether it is initialized or not by the method **cap.isOpened()**. If it is True, OK. Otherwise open it using **cap.open()**.\n",
        "\n",
        "You can also access some of the features of this video using cap.get(propId) method where propId is a number from 0 to 18. Each number denotes a property of the video (if it is applicable to that video). Full details can be seen here: cv::VideoCapture::get(). Some of these values can be modified using cap.set(propId, value). Value is the new value you want.\n",
        "\n",
        "For example, I can check the frame width and height by cap.get(cv.CAP_PROP_FRAME_WIDTH) and cap.get(cv.CAP_PROP_FRAME_HEIGHT). It gives me 640x480 by default. But I want to modify it to 320x240. Just use ret = cap.set(cv.CAP_PROP_FRAME_WIDTH,320) and ret = cap.set(cv.CAP_PROP_FRAME_HEIGHT,240)."
      ]
    },
    {
      "cell_type": "markdown",
      "metadata": {
        "id": "a2CCkCtpIvQ-"
      },
      "source": [
        "## Playing Video from file\n",
        "\n",
        "Playing video from file is the same as capturing it from camera, just change the camera index to a video file name. Also while displaying the frame, use appropriate time for cv.waitKey(). If it is too less, video will be very fast and if it is too high, video will be slow (Well, that is how you can display videos in slow motion). 25 milliseconds will be OK in normal cases."
      ]
    },
    {
      "cell_type": "code",
      "execution_count": null,
      "metadata": {
        "colab": {
          "background_save": true
        },
        "id": "zRkERrYVLo0S"
      },
      "outputs": [],
      "source": [
        "cap = cv2.VideoCapture('/content/result_compressed.mp4')\n",
        "\n",
        "while True :\n",
        "  ret, frame = cap.read()\n",
        "  if not ret:\n",
        "    print(\"Can't receive frame (stream end?). Exiting ...\")\n",
        "    break\n",
        "\n",
        "  cv2_imshow(frame)\n",
        "\n",
        "  if cv2.waitKey(1) == ord('q'):\n",
        "    break\n",
        "\n",
        "cap.release()\n",
        "cv2.destroyAllWindows()"
      ]
    },
    {
      "cell_type": "markdown",
      "source": [
        "## Saving a Video\n",
        "\n",
        "So we capture a video and process it frame-by-frame, and we want to save that video. For images, it is very simple: just use cv.imwrite(). Here, a little more work is required.\n",
        "\n",
        "This time we create a VideoWriter object. We should specify the output file name (eg: output.avi). Then we should specify the FourCC code (details in next paragraph). Then number of frames per second (fps) and frame size should be passed. And the last one is the isColor flag. If it is True, the encoder expect color frame, otherwise it works with grayscale frame.\n",
        "\n",
        "FourCC is a 4-byte code used to specify the video codec. The list of available codes can be found in fourcc.org. It is platform dependent. The following codecs work fine for me.\n",
        "\n",
        "\n",
        "\n",
        "1.   In Fedora: DIVX, XVID, MJPG, X264, WMV1, WMV2. (XVID is more preferable. MJPG results in high size video. X264 gives very small size video)\n",
        "2.   In Windows: DIVX (More to be tested and added)\n",
        "\n",
        "3.  In OSX: MJPG (.mp4), DIVX (.avi), X264 (.mkv).\n",
        "\n",
        "FourCC code is passed as `cv.VideoWriter_fourcc('M','J','P','G')or cv.VideoWriter_fourcc(*'MJPG')` for MJPG.\n",
        "\n",
        "The below code captures from a camera, flips every frame in the vertical direction, and saves the video.\n",
        "\n"
      ],
      "metadata": {
        "id": "B1r0cLeSKsh_"
      }
    },
    {
      "cell_type": "code",
      "execution_count": null,
      "metadata": {
        "id": "8Y1HJ9IkUbcD"
      },
      "outputs": [],
      "source": [
        "import cv2\n",
        "import numpy as np\n",
        "\n",
        "# Create a VideoCapture object\n",
        "cap = cv2.VideoCapture(0)\n",
        "\n",
        "# Check if camera opened successfully\n",
        "if (cap.isOpened() == False):\n",
        "    print(\"Unable to read camera feed\")\n",
        "\n",
        "# Default resolutions of the frame are obtained.The default resolutions are system dependent.\n",
        "# We convert the resolutions from float to integer.\n",
        "frame_width = int(cap.get(3))\n",
        "frame_height = int(cap.get(4))\n",
        "\n",
        "# Define the codec and create VideoWriter object.The output is stored in 'outpy.avi' file.\n",
        "out = cv2.VideoWriter('outpy.avi', cv2.VideoWriter_fourcc(\n",
        "    'M', 'J', 'P', 'G'), 10, (frame_width, frame_height))\n",
        "\n",
        "while (True):\n",
        "    ret, frame = cap.read()\n",
        "\n",
        "    if ret == True:\n",
        "\n",
        "        # Write the frame into the file 'output.avi'\n",
        "        out.write(frame)\n",
        "\n",
        "        # Display the resulting frame\n",
        "        cv2.imshow('frame', frame)\n",
        "\n",
        "        # Press Q on keyboard to stop recording\n",
        "        if cv2.waitKey(1) & 0xFF == ord('q'):\n",
        "            break\n",
        "\n",
        "    # Break the loop\n",
        "    else:\n",
        "        break\n",
        "\n",
        "# When everything done, release the video capture and video write objects\n",
        "cap.release()\n",
        "out.release()\n",
        "\n",
        "# Closes all the frames\n",
        "cv2.destroyAllWindows()\n"
      ]
    },
    {
      "cell_type": "markdown",
      "source": [
        "## Calculate the FPS"
      ],
      "metadata": {
        "id": "9mDmVuVdRxAE"
      }
    },
    {
      "cell_type": "code",
      "source": [
        "import cv2\n",
        "import numpy as np\n",
        "import time\n",
        "\n",
        "\n",
        "cap = cv2.VideoCapture('clip.mp4')\n",
        "fps = 0\n",
        "\n",
        "while True:\n",
        "    start_time = time.time()\n",
        "    ret, frame = cap.read()\n",
        "\n",
        "    if not ret:\n",
        "        print('something wrong..')\n",
        "        break\n",
        "\n",
        "    cv2.putText(frame, f'fps: {fps}', (30, 40),\n",
        "                cv2.FONT_HERSHEY_SIMPLEX, 1.5, (255, 255, 255), 2)\n",
        "\n",
        "    cv2.imshow('frame', frame)\n",
        "    if cv2.waitKey(20) & 0xFF == ord('q'):\n",
        "        break\n",
        "\n",
        "    time_taken = time.time() - start_time\n",
        "    try:\n",
        "        fps = 1//time_taken\n",
        "    except ZeroDivisionError as error:\n",
        "        print(error)\n",
        "\n",
        "\n",
        "cap.release()\n",
        "cv2.destroyAllWindows()\n"
      ],
      "metadata": {
        "id": "TUvkGP_rRzZM"
      },
      "execution_count": null,
      "outputs": []
    },
    {
      "cell_type": "markdown",
      "source": [
        "## Access Web Camera"
      ],
      "metadata": {
        "id": "AIEs2qsBSK5F"
      }
    },
    {
      "cell_type": "code",
      "source": [
        "import numpy as np\n",
        "import cv2 as cv\n",
        "import time\n",
        "\n",
        "cap = cv.VideoCapture(0)\n",
        "fps = 0\n",
        "\n",
        "while True:\n",
        "    start_time = time.time()\n",
        "    ret, frame = cap.read()\n",
        "\n",
        "    if not ret:\n",
        "        print('Can\\'t access webcam....')\n",
        "\n",
        "    cv.putText(frame, f'Fps: {fps}', (30, 40),\n",
        "               cv.FONT_HERSHEY_SIMPLEX, 1.5, (255, 255, 255), 2)\n",
        "    cv.imshow('Web camera', frame)\n",
        "\n",
        "    if cv.waitKey(1) & 0xFF == ord('q'):\n",
        "        break\n",
        "\n",
        "    time_taken = time.time() - start_time\n",
        "    try:\n",
        "        fps = 1//time_taken\n",
        "    except ZeroDivisionError as error:\n",
        "        print(error)\n",
        "\n",
        "cap.release()\n",
        "cv.destroyAllWindows()\n"
      ],
      "metadata": {
        "id": "xsyXbUe4SNQ2"
      },
      "execution_count": null,
      "outputs": []
    },
    {
      "cell_type": "code",
      "source": [
        "# Accessing two or more camera\n",
        "\n",
        "import numpy as np\n",
        "import cv2 as cv\n",
        "import time\n",
        "\n",
        "cap = cv.VideoCapture(0)\n",
        "cap1 = cv.VideoCapture(1)\n",
        "fps = 0\n",
        "\n",
        "while True:\n",
        "    start_time = time.time()\n",
        "    ret, frame = cap.read()\n",
        "    ret, frame1 = cap1.read()\n",
        "\n",
        "    if not ret:\n",
        "        print('Can\\'t access webcam....')\n",
        "\n",
        "    cv.putText(frame, f'Fps: {fps}', (30, 40),\n",
        "               cv.FONT_HERSHEY_SIMPLEX, 1.5, (255, 255, 255), 2)\n",
        "    cv.putText(frame1, f'Fps: {fps}', (30, 40),\n",
        "               cv.FONT_HERSHEY_SIMPLEX, 1.5, (255, 255, 255), 2)\n",
        "\n",
        "    hstack = np.hstack((frame, frame1))\n",
        "    cv.imshow('Web camera', frame)\n",
        "    cv.imshow('Web camera', frame1)\n",
        "    cv.imshow('Two on single wind', hstack)\n",
        "\n",
        "    if cv.waitKey(1) & 0xFF == ord('q'):\n",
        "        break\n",
        "\n",
        "    time_taken = time.time() - start_time\n",
        "    try:\n",
        "        fps = 1//time_taken\n",
        "    except ZeroDivisionError as error:\n",
        "        print(error)\n",
        "\n",
        "cap.release()\n",
        "cv.destroyAllWindows()\n"
      ],
      "metadata": {
        "id": "kPedLqoGU80H"
      },
      "execution_count": null,
      "outputs": []
    }
  ],
  "metadata": {
    "colab": {
      "provenance": []
    },
    "kernelspec": {
      "display_name": "Python 3",
      "name": "python3"
    },
    "language_info": {
      "name": "python"
    }
  },
  "nbformat": 4,
  "nbformat_minor": 0
}