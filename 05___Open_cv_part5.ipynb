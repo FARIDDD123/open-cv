{
  "cells": [
    {
      "cell_type": "markdown",
      "source": [
        "# Face Detection\n",
        "\n",
        "## What is ...\n",
        "\n",
        "\n",
        "Face detection, also called facial detection, is an artificial intelligence (AI)-based computer technology used to find and identify human faces in digital images and video. Face detection technology is often used for surveillance and tracking of people in real time. It is used in various fields including security, biometrics, law enforcement, entertainment and social media.\n",
        "\n",
        "Face detection uses machine learning (ML) and artificial neural network (ANN) technology, and plays an important role in face tracking, face analysis and facial recognition. In face analysis, face detection uses facial expressions to identify which parts of an image or video should be focused on to determine age, gender and emotions. In a facial recognition system, face detection data is required to generate a faceprint and match it with other stored faceprints."
      ],
      "metadata": {
        "id": "pW7vfVLxh5X_"
      }
    },
    {
      "cell_type": "markdown",
      "source": [
        "## Face Detection part 2 DNN\n",
        "\n",
        "### Resources\n",
        "\n",
        "[github](https://github.com/opencv/opencv/tree/master/samples/dnn/face_detector)\n",
        "\n",
        "[github](https://github.com/opencv/opencv)\n",
        "\n",
        "\n",
        "## Models:\n",
        "\n",
        "`/content/deploy.prototxt.txt`\n",
        "\n",
        "`/content/res10_300x300_ssd_iter_140000_fp16.caffemodel`\n"
      ],
      "metadata": {
        "id": "wtVCdEKbde3x"
      }
    },
    {
      "cell_type": "code",
      "source": [
        "from google.colab.patches import cv2_imshow\n",
        "import numpy as np\n",
        "import cv2"
      ],
      "metadata": {
        "id": "9_Ys4KPth7W8"
      },
      "execution_count": 1,
      "outputs": []
    },
    {
      "cell_type": "code",
      "source": [
        "img = '/content/000_32Y432C-e1670079887895.jpg'"
      ],
      "metadata": {
        "id": "iot0MBcxi-Lf"
      },
      "execution_count": 3,
      "outputs": []
    },
    {
      "cell_type": "code",
      "source": [
        "import cv2\n",
        "import numpy as np\n",
        "\n",
        "\n",
        "img = cv2.imread('000_32Y432C-e1670079887895.jpg')\n",
        "cv2_imshow(img) # its cv2.imshow('image', img) in vscode\n",
        "cv2.waitKey(0)\n",
        "cv2.destroyAllWindows()"
      ],
      "metadata": {
        "id": "1XgzqTWSi5Y9"
      },
      "execution_count": null,
      "outputs": []
    },
    {
      "cell_type": "markdown",
      "source": [
        "## Building our model"
      ],
      "metadata": {
        "id": "6WIlWFzMjUw-"
      }
    },
    {
      "cell_type": "code",
      "source": [
        "face_detection_model = cv2.dnn.readNetFromCaffe('deploy.prototxt.txt',\n",
        "                                                'res10_300x300_ssd_iter_140000_fp16.caffemodel')\n",
        "\n",
        "\n",
        "blob = cv2.dnn.blobFromImage(img, 1, (300, 300), (104, 177, 123), swapRB=True)\n",
        "face_detection_model.setInput(blob)\n",
        "detection = face_detection_model.forward()\n",
        "print(detection)\n",
        "print(detection.shape)"
      ],
      "metadata": {
        "colab": {
          "base_uri": "https://localhost:8080/"
        },
        "id": "7GqBPj2gjQBV",
        "outputId": "b44dee59-87df-4b5d-a6f1-a54930d70c82"
      },
      "execution_count": 6,
      "outputs": [
        {
          "output_type": "stream",
          "name": "stdout",
          "text": [
            "[[[[0.         1.         0.99185055 ... 0.23122434 0.1762789\n",
            "    0.38468295]\n",
            "   [0.         1.         0.95569706 ... 0.16778132 0.87898564\n",
            "    0.30424115]\n",
            "   [0.         1.         0.77243984 ... 0.10739079 0.63391227\n",
            "    0.26958573]\n",
            "   ...\n",
            "   [0.         0.         0.         ... 0.         0.\n",
            "    0.        ]\n",
            "   [0.         0.         0.         ... 0.         0.\n",
            "    0.        ]\n",
            "   [0.         0.         0.         ... 0.         0.\n",
            "    0.        ]]]]\n",
            "(1, 1, 200, 7)\n"
          ]
        }
      ]
    },
    {
      "cell_type": "code",
      "source": [
        "detection.shape"
      ],
      "metadata": {
        "colab": {
          "base_uri": "https://localhost:8080/"
        },
        "id": "R4q5JrfrjsGU",
        "outputId": "55dd4c0c-b4e8-4359-d514-cf067638207f"
      },
      "execution_count": 9,
      "outputs": [
        {
          "output_type": "execute_result",
          "data": {
            "text/plain": [
              "(1, 1, 200, 7)"
            ]
          },
          "metadata": {},
          "execution_count": 9
        }
      ]
    },
    {
      "cell_type": "code",
      "source": [
        "detection[0, 0, :, 2]"
      ],
      "metadata": {
        "colab": {
          "base_uri": "https://localhost:8080/"
        },
        "id": "d9q4sBBCjtu9",
        "outputId": "fcceb20f-b890-4a04-e7d9-d6d95c4fffb8"
      },
      "execution_count": 13,
      "outputs": [
        {
          "output_type": "execute_result",
          "data": {
            "text/plain": [
              "array([0.99185055, 0.95569706, 0.77243984, 0.52588433, 0.1536162 ,\n",
              "       0.12274732, 0.12060257, 0.1189584 , 0.11327852, 0.11119212,\n",
              "       0.1085901 , 0.10824694, 0.10733923, 0.10539097, 0.10499385,\n",
              "       0.1049673 , 0.1043027 , 0.10408244, 0.10384497, 0.10375548,\n",
              "       0.10242   , 0.10220893, 0.10210401, 0.10178982, 0.10166726,\n",
              "       0.10149435, 0.10138017, 0.10057862, 0.10050879, 0.10050134,\n",
              "       0.10029899, 0.09978598, 0.09965371, 0.09946967, 0.09942976,\n",
              "       0.09923793, 0.09917226, 0.09915735, 0.09903015, 0.09897471,\n",
              "       0.09889783, 0.09875856, 0.09863002, 0.09850914, 0.09832893,\n",
              "       0.09821223, 0.09817664, 0.09810847, 0.09798357, 0.09788451,\n",
              "       0.0978627 , 0.09774946, 0.09767288, 0.09728264, 0.0971644 ,\n",
              "       0.0970239 , 0.09698937, 0.09695654, 0.09695446, 0.0968795 ,\n",
              "       0.09674256, 0.09673633, 0.09637449, 0.09612407, 0.09610331,\n",
              "       0.09600779, 0.09591561, 0.09588596, 0.09568219, 0.09558593,\n",
              "       0.09553008, 0.0953915 , 0.09522757, 0.09520204, 0.09513555,\n",
              "       0.09510386, 0.0949196 , 0.09491776, 0.09489667, 0.09475305,\n",
              "       0.09473217, 0.09469719, 0.09456026, 0.09447278, 0.09439936,\n",
              "       0.09427661, 0.0941909 , 0.09414213, 0.09408623, 0.09405717,\n",
              "       0.0939578 , 0.09387255, 0.09373852, 0.09352124, 0.09347299,\n",
              "       0.09344862, 0.09312362, 0.09310526, 0.09303986, 0.0929663 ,\n",
              "       0.09294461, 0.09282786, 0.09278229, 0.09251869, 0.09238111,\n",
              "       0.09218036, 0.09213025, 0.09202905, 0.09195252, 0.09193261,\n",
              "       0.09187859, 0.0917873 , 0.09177125, 0.09150867, 0.09132127,\n",
              "       0.09130739, 0.09098688, 0.09096166, 0.09087791, 0.09087438,\n",
              "       0.09071045, 0.09052853, 0.09044208, 0.09037729, 0.09031415,\n",
              "       0.09031294, 0.0902902 , 0.09025349, 0.0901805 , 0.08996698,\n",
              "       0.08989776, 0.08980018, 0.08976182, 0.08965818, 0.08965666,\n",
              "       0.08965515, 0.08962658, 0.08953504, 0.08951575, 0.08950647,\n",
              "       0.08942547, 0.08923107, 0.08920832, 0.0891155 , 0.08898881,\n",
              "       0.08891025, 0.08882807, 0.08876276, 0.        , 0.        ,\n",
              "       0.        , 0.        , 0.        , 0.        , 0.        ,\n",
              "       0.        , 0.        , 0.        , 0.        , 0.        ,\n",
              "       0.        , 0.        , 0.        , 0.        , 0.        ,\n",
              "       0.        , 0.        , 0.        , 0.        , 0.        ,\n",
              "       0.        , 0.        , 0.        , 0.        , 0.        ,\n",
              "       0.        , 0.        , 0.        , 0.        , 0.        ,\n",
              "       0.        , 0.        , 0.        , 0.        , 0.        ,\n",
              "       0.        , 0.        , 0.        , 0.        , 0.        ,\n",
              "       0.        , 0.        , 0.        , 0.        , 0.        ,\n",
              "       0.        , 0.        , 0.        , 0.        , 0.        ],\n",
              "      dtype=float32)"
            ]
          },
          "metadata": {},
          "execution_count": 13
        }
      ]
    },
    {
      "cell_type": "markdown",
      "source": [
        "## Find the face with confidences"
      ],
      "metadata": {
        "id": "OSglw6JFlMCu"
      }
    },
    {
      "cell_type": "code",
      "source": [
        "image = img.copy()"
      ],
      "metadata": {
        "id": "d5X_X0QGkbv3"
      },
      "execution_count": 14,
      "outputs": []
    },
    {
      "cell_type": "code",
      "source": [
        "image.shape"
      ],
      "metadata": {
        "colab": {
          "base_uri": "https://localhost:8080/"
        },
        "id": "joYl2cZSlUn_",
        "outputId": "d4f85775-09ba-4b24-a65f-9648ecde95ac"
      },
      "execution_count": 15,
      "outputs": [
        {
          "output_type": "execute_result",
          "data": {
            "text/plain": [
              "(611, 977, 3)"
            ]
          },
          "metadata": {},
          "execution_count": 15
        }
      ]
    },
    {
      "cell_type": "code",
      "source": [
        "h, w = image.shape[:2]"
      ],
      "metadata": {
        "id": "KgdXypgklRBC"
      },
      "execution_count": 16,
      "outputs": []
    },
    {
      "cell_type": "code",
      "source": [
        "for i in range(0, 200):\n",
        "  confidence = detection[0, 0, i, 2]\n",
        "  if confidence > 0.5:\n",
        "    print(confidence)"
      ],
      "metadata": {
        "colab": {
          "base_uri": "https://localhost:8080/"
        },
        "id": "Go5-XiBwlapq",
        "outputId": "19cb235b-8015-41e2-dd1e-fe2afe1e2df3"
      },
      "execution_count": 19,
      "outputs": [
        {
          "output_type": "stream",
          "name": "stdout",
          "text": [
            "0.99185055\n",
            "0.95569706\n",
            "0.77243984\n",
            "0.52588433\n"
          ]
        }
      ]
    },
    {
      "cell_type": "markdown",
      "source": [
        "## Find the point to drow bounding box"
      ],
      "metadata": {
        "id": "ZaA32fpcmPnV"
      }
    },
    {
      "cell_type": "code",
      "source": [
        "for i in range(0, 200):\n",
        "  confidence = detection[0, 0, i, 2]\n",
        "  if confidence > 0.5:\n",
        "    box = detection[0, 0, i, 3:7]*np.array([w, h, w, h])\n",
        "    box = box.astype('int')\n",
        "    pt1 = (box[0], box[1])\n",
        "    pt2 = (box[2], box[3])\n",
        "\n",
        "    cv2.rectangle(image,\n",
        "                  pt1,\n",
        "                  pt2,\n",
        "                  (255, 0, 0),\n",
        "                  1)\n",
        "    text = f'Score : {confidence*100:.0f} %'\n",
        "    cv2.putText(image,\n",
        "                text,\n",
        "                pt1,\n",
        "                cv2.FONT_HERSHEY_SIMPLEX,\n",
        "                1,\n",
        "                (255, 255, 255),\n",
        "                2)\n",
        "\n",
        "\n",
        "cv2_imshow(image)"
      ],
      "metadata": {
        "id": "gCczpVcpldXp"
      },
      "execution_count": null,
      "outputs": []
    },
    {
      "cell_type": "code",
      "source": [],
      "metadata": {
        "id": "ZwBYgX13meXL"
      },
      "execution_count": null,
      "outputs": []
    }
  ],
  "metadata": {
    "colab": {
      "provenance": []
    },
    "kernelspec": {
      "display_name": "Python 3",
      "name": "python3"
    },
    "language_info": {
      "name": "python"
    }
  },
  "nbformat": 4,
  "nbformat_minor": 0
}