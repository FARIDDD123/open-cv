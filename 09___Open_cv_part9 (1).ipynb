{
  "cells": [
    {
      "cell_type": "markdown",
      "source": [
        "# Project Control Brightnes"
      ],
      "metadata": {
        "id": "VD1tsncytoFT"
      }
    },
    {
      "cell_type": "code",
      "source": [
        "import numpy as np\n",
        "import matplotlib.pyplot as plt\n",
        "import cv2\n",
        "from google.colab.patches import cv2_imshow"
      ],
      "metadata": {
        "id": "t0Y0BV08tqny"
      },
      "execution_count": 2,
      "outputs": []
    },
    {
      "cell_type": "code",
      "source": [
        "img = cv2.imread('/content/test.jpeg')\n",
        "cv2.imshow('my image', img)\n",
        "cv2.waitKey(0)\n",
        "cv2.destroyAllWindows()\n",
        "\n",
        "\n",
        "def my_pass(x):\n",
        "    pass\n",
        "\n",
        "\n",
        "cv2.namedWindow('Control Brightness')\n",
        "bright = cv2.createTrackbar(\n",
        "    'Brightness', 'Control Brightness', 75, 255, my_pass)\n",
        "\n",
        "\n",
        "while True:\n",
        "    bright = cv2.getTrackbarPos('Brightness', 'Control Brightness')\n",
        "    bar = bright - 127\n",
        "\n",
        "    if bar >= 0:\n",
        "        value = np.ones_like(img, dtype=np.uint8)*bar\n",
        "        img_ctrl = cv2.add(img, value)\n",
        "\n",
        "    else:\n",
        "        bright = 127 - bright\n",
        "        value = np.ones_like(img, np.uint8)*bright\n",
        "        img_ctrl = cv2.subtract(img, value)\n",
        "\n",
        "    cv2.imshow('Control Brightness', img_ctrl)\n",
        "\n",
        "    if cv2.waitKey(1) == 27:\n",
        "        break\n",
        "\n",
        "cv2.destroyAllWindows()"
      ],
      "metadata": {
        "id": "HteW24tWxbM3"
      },
      "execution_count": 3,
      "outputs": []
    }
  ],
  "metadata": {
    "colab": {
      "provenance": []
    },
    "kernelspec": {
      "display_name": "Python 3",
      "name": "python3"
    },
    "language_info": {
      "name": "python"
    }
  },
  "nbformat": 4,
  "nbformat_minor": 0
}